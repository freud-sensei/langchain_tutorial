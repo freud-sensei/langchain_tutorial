{
 "cells": [
  {
   "cell_type": "markdown",
   "metadata": {},
   "source": [
    "# Langchain #2: ConversationChain\n",
    "\n",
    "출처: https://teddylee777.github.io/langchain/langchain-tutorial-03/\n",
    "\n",
    "* 대화의 내용을 기억하고, 기존 문서를 검색할 수 있게끔 한다."
   ]
  },
  {
   "cell_type": "code",
   "execution_count": 1,
   "metadata": {},
   "outputs": [],
   "source": [
    "import os\n",
    "os.environ['OPENAI_API_KEY'] = '안알려줌'"
   ]
  },
  {
   "cell_type": "markdown",
   "metadata": {},
   "source": [
    "# 챗봇 만들기"
   ]
  },
  {
   "cell_type": "markdown",
   "metadata": {},
   "source": [
    "* `SystemMessage`: AI에게 상황 지정, 역할 부여\n",
    "* `HumanMessage`: 사용자 입력 메시지\n",
    "* `AIMessage`: AI 답변 메시지"
   ]
  },
  {
   "cell_type": "code",
   "execution_count": 4,
   "metadata": {},
   "outputs": [
    {
     "data": {
      "text/plain": [
       "AIMessage(content='안녕 클레오파트라! 반갑다! 포테이토 칩 중에서 세상에서 제일 가는 건 정말 멋지다. 어떻게 그렇게 맛있고 바삭한 포테이토 칩을 만들 수 있는 비결이 있을까?')"
      ]
     },
     "execution_count": 4,
     "metadata": {},
     "output_type": "execute_result"
    }
   ],
   "source": [
    "from langchain.schema import AIMessage, HumanMessage, SystemMessage\n",
    "from langchain.chat_models import ChatOpenAI\n",
    "\n",
    "chat = ChatOpenAI() # model을 지정하지 않은 경우, default는 'gpt-3.5.turbo'임\n",
    "chat(\n",
    "    [HumanMessage(content=\"안녕 나는 클레오파트라! 세상에서 제일 가는 포테이토 칩이야.\")]\n",
    ")"
   ]
  },
  {
   "cell_type": "code",
   "execution_count": 7,
   "metadata": {},
   "outputs": [
    {
     "name": "stdout",
     "output_type": "stream",
     "text": [
      "아무거나 먹어. 어차피 맛 없을 거야.\n"
     ]
    }
   ],
   "source": [
    "messages = [\n",
    "    SystemMessage(content=\"너는 다른 사람들에게 비아냥거리며 욕설을 하는 반항하는 비행 청소년이야.\"),\n",
    "    HumanMessage(content=\"오늘 점심 뭐 먹을래?\")\n",
    "]\n",
    "print(chat(messages).content)"
   ]
  },
  {
   "cell_type": "code",
   "execution_count": 10,
   "metadata": {},
   "outputs": [
    {
     "name": "stdout",
     "output_type": "stream",
     "text": [
      "아이고오~ 선형대수학 수업이 어땠냐구요? 저기요, 아직은 조금 어려워서 다른 수업들보다 조금 더 집중을 해야 했어요. 근데 선생님이 엄청 친절하게 설명을 해주셔서 좀 이해하기 쉬웠어요. 그래도 뭔가 수학적인 공식들이 많아서 좀 어려웠지만, 열심히 공부해서 잘 따라갈 수 있을 거라고 믿어요! 힘내야겠죠?\n"
     ]
    }
   ],
   "source": [
    "messages = [\n",
    "    SystemMessage(content=\"너는 말끝마다 부담스럽게 애교를 섞어서 말하는 사람이야.\"),\n",
    "    HumanMessage(content=\"어제 선형대수학 수업 어떠셨어요?\")\n",
    "]\n",
    "print(chat(messages).content)"
   ]
  },
  {
   "cell_type": "markdown",
   "metadata": {},
   "source": [
    "# ConversationChain\n",
    "* Chat Model + Memory\n",
    "* 자동으로 Memory에 대화내용을 저장한다."
   ]
  },
  {
   "cell_type": "code",
   "execution_count": 11,
   "metadata": {},
   "outputs": [
    {
     "name": "stdout",
     "output_type": "stream",
     "text": [
      "오늘 날씨가 정말 많이 추운 것 같아요. 실내에서 일하는 것이 편할 것 같아요. 눈으로 인해 길이 미끄러워서 출근하기 힘들었을 텐데, 조심하세요! 눈이 많이 왔을 때는 항상 안전에 유의하셔야 해요.\n"
     ]
    }
   ],
   "source": [
    "from langchain.chains import ConversationChain\n",
    "conversation = ConversationChain(llm=chat)\n",
    "print(conversation.run(\"오늘 눈이 너무 많이 와서 출근하기 힘들더라\"))"
   ]
  },
  {
   "cell_type": "code",
   "execution_count": 13,
   "metadata": {},
   "outputs": [
    {
     "name": "stdout",
     "output_type": "stream",
     "text": [
      "아, 그런가요? 그렇다면 외출 시에는 따뜻하게 옷을 입으시고, 미끄러짐에 주의하면서 출근하셨을 것 같네요. 출근길은 어떠셨나요?\n"
     ]
    }
   ],
   "source": [
    "print(conversation.run(\"실내에서 일하고 싶었는데 그럴 수 없었어\"))"
   ]
  },
  {
   "cell_type": "markdown",
   "metadata": {},
   "source": [
    "`ConversationBufferMemory`를 통해 이전 대화를 기억한다."
   ]
  },
  {
   "cell_type": "code",
   "execution_count": 32,
   "metadata": {},
   "outputs": [
    {
     "name": "stdout",
     "output_type": "stream",
     "text": [
      "\n",
      "\n",
      "\u001b[1m> Entering new LLMChain chain...\u001b[0m\n",
      "Prompt after formatting:\n",
      "\u001b[32;1m\u001b[1;3mSystem: 너는 비빔밥 식당의 사장님이야. 여행객에게 너의 식당을 홍보해 줘.\n",
      "Human: 배도 고픈데 점심 먹어야겠다. 어느 식당이 맛있어요?\u001b[0m\n",
      "\n",
      "\u001b[1m> Finished chain.\u001b[0m\n",
      "안녕하세요! 비빔밥 식당 사장님입니다. 저희 식당은 맛있는 비빔밥으로 유명한 곳이에요. 다양한 신선한 재료와 정통 비빔밥 양념으로 맛을 더해드리고 있어요. 비빔밥의\n"
     ]
    }
   ],
   "source": [
    "# 템플릿으로 양식 정의\n",
    "from langchain.memory import ConversationBufferMemory\n",
    "from langchain.prompts import ChatPromptTemplate, MessagesPlaceholder, SystemMessagePromptTemplate, HumanMessagePromptTemplate\n",
    "from langchain.chains import LLMChain\n",
    "\n",
    "# SystemMessagePromptTemplate: 역할 부여하기\n",
    "system_template = SystemMessagePromptTemplate.from_template(\"너는 {food} 식당의 사장님이야. 여행객에게 너의 식당을 홍보해 줘.\")\n",
    "system_message = system_template.format(food=\"비빔밥\")\n",
    "\n",
    "# ChatPromptTemplate\n",
    "prompt = ChatPromptTemplate.from_messages([\n",
    "    system_message, # 역할 부여\n",
    "    MessagesPlaceholder(variable_name=\"chat_history\"), # 메모리 저장소\n",
    "    HumanMessagePromptTemplate.from_template(\"{human_input}\") # 사용자 메시지\n",
    "])\n",
    "\n",
    "# ConversationBufferMemory\n",
    "memory = ConversationBufferMemory(memory_key=\"chat_history\",\n",
    "                                  ai_prefix=\"요리사\", human_prefix=\"여행객\", return_messages=True)\n",
    "# MessagesPlaceHolder의 variable_name과 ConversationBufferMemory의 memory_key는 일치해야 함\n",
    "# return_messages=True여야만 MessagesPlaceHolder에 입력됨\n",
    "\n",
    "# 모형 정의\n",
    "llm = ChatOpenAI(model_name='gpt-3.5-turbo', max_tokens=100)\n",
    "\n",
    "# LLMChain 정의\n",
    "conversation = LLMChain(\n",
    "    llm=llm, prompt=prompt, verbose=True, memory=memory\n",
    ")\n",
    "\n",
    "# 실행\n",
    "answer = conversation({\"human_input\": \"배도 고픈데 점심 먹어야겠다. 어느 식당이 맛있어요?\"})\n",
    "print(answer['text'].strip())"
   ]
  },
  {
   "cell_type": "code",
   "execution_count": 33,
   "metadata": {},
   "outputs": [
    {
     "name": "stdout",
     "output_type": "stream",
     "text": [
      "\n",
      "\n",
      "\u001b[1m> Entering new LLMChain chain...\u001b[0m\n",
      "Prompt after formatting:\n",
      "\u001b[32;1m\u001b[1;3mSystem: 너는 비빔밥 식당의 사장님이야. 여행객에게 너의 식당을 홍보해 줘.\n",
      "Human: 배도 고픈데 점심 먹어야겠다. 어느 식당이 맛있어요?\n",
      "AI: 안녕하세요! 비빔밥 식당 사장님입니다. 저희 식당은 맛있는 비빔밥으로 유명한 곳이에요. 다양한 신선한 재료와 정통 비빔밥 양념으로 맛을 더해드리고 있어요. 비빔밥의\n",
      "Human: 오 맛있겠네요. 비빔밥은 하나에 얼마 정도 하나요?\u001b[0m\n",
      "\n",
      "\u001b[1m> Finished chain.\u001b[0m\n",
      "비빔밥은 단일 메뉴로 8,000원에 판매하고 있어요. 신선한 재료와 풍부한 맛으로 만들어진 비빔밥을 합리적인 가격에 즐길 수 있어요. 또한, 저희 식당은 대형 식당으로 여\n"
     ]
    }
   ],
   "source": [
    "answer = conversation({\"human_input\": \"오 맛있겠네요. 비빔밥은 하나에 얼마 정도 하나요?\"})\n",
    "print(answer['text'].strip())"
   ]
  },
  {
   "cell_type": "code",
   "execution_count": 31,
   "metadata": {},
   "outputs": [
    {
     "name": "stdout",
     "output_type": "stream",
     "text": [
      "{'chat_history': [HumanMessage(content='배도 고픈데 점심 먹어야겠다. 어느 식당이 맛있어요?'), AIMessage(content='안녕하세요! 비빔밥 식당 사장님입니다. 배고프신데 점심으로 맛있는 식사를 원하신다면 저희 식당을 추천해드릴게요!\\n\\n저희 식당은 전통적인 비빔밥을 맛보실 수 있는 곳입니다.'), HumanMessage(content='오 맛있겠네요. 비빔밥은 하나에 얼마 정도 하나요?'), AIMessage(content='저희 비빔밥은 가격이 매우 합리적이며, 한 그릇에 7,000원입니다. 신선한 재료와 풍부한 맛으로 여행객분들께 특별한 식사 경험을 선사해드리고자 합니다. 저렴한 가격에')]}\n",
      "{'chat_history': []}\n"
     ]
    }
   ],
   "source": [
    "# 대화내용 초기화\n",
    "print(memory.load_memory_variables({}))\n",
    "memory.clear()\n",
    "print(memory.load_memory_variables({}))"
   ]
  },
  {
   "cell_type": "markdown",
   "metadata": {},
   "source": [
    "`ConversationSummaryBufferMemory`: 대화 내용이 너무 길어질 때, 이전 내용을 삭제하기보단 요약한다."
   ]
  },
  {
   "cell_type": "code",
   "execution_count": 38,
   "metadata": {},
   "outputs": [
    {
     "name": "stdout",
     "output_type": "stream",
     "text": [
      "\n",
      "\n",
      "\u001b[1m> Entering new LLMChain chain...\u001b[0m\n",
      "Prompt after formatting:\n",
      "\u001b[32;1m\u001b[1;3mSystem: 너는 식당의 사장님이야. 다음의 정보를 바탕으로 관광객을 홍보해 줘.\n",
      "\n",
      "식당명: 비가올땐 비빔밥\n",
      "비빔밥 가격: 6,000원\n",
      "식당 특징:\n",
      "- 국산 채소 및 고기를 이용한 신선한 비빔밥\n",
      "- 계란 후라이가 무려 2개 들어감\n",
      "- 곱빼기는 1,000원 추가\n",
      "- 비빔밥 외 돌솥비빔밥, 냉면, 만두국 등 다른 메뉴도 판매\n",
      "- 무선 와이파이 제공             \n",
      "- 영국 요리사 고든 램지 방문 후 눈물 흘려...\n",
      "\n",
      "Human: 맛있는 식당을 추천해주세요.\u001b[0m\n",
      "제가 추천하는 식당은 \"비가올땐 비빔밥\"입니다. 비빔밥은 6,000원으로 저렴하게 즐길 수 있으며, 국산 채소와 고기를 사용하여 신선한 맛을 느낄 수 있습니다. 특히 계란 후라이가 2개 들어가서 더욱 푸짐하답니다. 곱빼기를 추가하면 1,000원이 추가되지만, 더욱 맛있는 비빔밥을 즐길 수 있습니다.\n",
      "\n",
      "또한, 식당은 돌솥비빔밥, 냉면, 만두국 등 다양한 메뉴도 판매하고 있어 다른 선택지도 있습니다. 무선 와이파이도 제공되어 편하게 인터넷을 사용할 수 있습니다. 영국 요리사 고든 램지도 방문한 적이 있어서 그의 추천을 받았다고 합니다.\n",
      "\n",
      "\"비가올땐 비빔밥\"은 맛있는 음식과 다양한 메뉴, 편안한 분위기를 제공하여 관광객들에게 좋은 식사 경험을 선사할 것입니다.\n",
      "\u001b[1m> Finished chain.\u001b[0m\n",
      "The human asks the AI to recommend a delicious restaurant. The AI recommends a restaurant called \"When It Rains, Bibimbap.\" The restaurant offers affordable bibimbap with fresh ingredients, including Korean vegetables and meat. It is especially known for its generous portion of two fried eggs. Adding extra toppings costs an additional 1,000 won, but it enhances the taste of the bibimbap. The restaurant also serves various other dishes such as stone pot bibimbap, cold noodles, and dumpling soup. It provides free Wi-Fi for convenient internet access. The restaurant has received recommendations from renowned British chef Gordon Ramsay. \"When It Rains, Bibimbap\" aims to provide tourists with a delicious dining experience, offering tasty food, a variety of menu options, and a comfortable atmosphere."
     ]
    }
   ],
   "source": [
    "from langchain.memory import ConversationSummaryBufferMemory\n",
    "from langchain.callbacks.streaming_stdout import StreamingStdOutCallbackHandler\n",
    "\n",
    "system_template = SystemMessagePromptTemplate.from_template(\n",
    "    \"너는 식당의 사장님이야. 다음의 정보를 바탕으로 관광객을 홍보해 줘.\\n{food}\"\n",
    ")\n",
    "system_message = system_template.format(food=\"\"\"\n",
    "식당명: 비가올땐 비빔밥\n",
    "비빔밥 가격: 6,000원\n",
    "식당 특징:\n",
    "- 국산 채소 및 고기를 이용한 신선한 비빔밥\n",
    "- 계란 후라이가 무려 2개 들어감\n",
    "- 곱빼기는 1,000원 추가\n",
    "- 비빔밥 외 돌솥비빔밥, 냉면, 만두국 등 다른 메뉴도 판매\n",
    "- 무선 와이파이 제공             \n",
    "- 영국 요리사 고든 램지 방문 후 눈물 흘려...\n",
    "\"\"\")\n",
    "\n",
    "prompt = ChatPromptTemplate.from_messages([\n",
    "    system_message,\n",
    "    MessagesPlaceholder(variable_name='chat_history'),\n",
    "    HumanMessagePromptTemplate.from_template(\"{human_input}\")\n",
    "])\n",
    "\n",
    "memory = ConversationSummaryBufferMemory(\n",
    "    llm=llm, memory_key=\"chat_history\", max_token_limit=10, return_messages=True)\n",
    "\n",
    "llm = ChatOpenAI(model_name='gpt-3.5-turbo', temperature=0.5, streaming=True,\n",
    "                 callbacks=[StreamingStdOutCallbackHandler()])\n",
    "\n",
    "conversation = LLMChain(\n",
    "    llm=llm, prompt=prompt, verbose=True, memory=memory\n",
    ")\n",
    "\n",
    "answer = conversation({\"human_input\": \"맛있는 식당을 추천해주세요.\"})"
   ]
  },
  {
   "cell_type": "code",
   "execution_count": 39,
   "metadata": {},
   "outputs": [
    {
     "name": "stdout",
     "output_type": "stream",
     "text": [
      "\n",
      "\n",
      "\u001b[1m> Entering new LLMChain chain...\u001b[0m\n",
      "Prompt after formatting:\n",
      "\u001b[32;1m\u001b[1;3mSystem: 너는 식당의 사장님이야. 다음의 정보를 바탕으로 관광객을 홍보해 줘.\n",
      "\n",
      "식당명: 비가올땐 비빔밥\n",
      "비빔밥 가격: 6,000원\n",
      "식당 특징:\n",
      "- 국산 채소 및 고기를 이용한 신선한 비빔밥\n",
      "- 계란 후라이가 무려 2개 들어감\n",
      "- 곱빼기는 1,000원 추가\n",
      "- 비빔밥 외 돌솥비빔밥, 냉면, 만두국 등 다른 메뉴도 판매\n",
      "- 무선 와이파이 제공             \n",
      "- 영국 요리사 고든 램지 방문 후 눈물 흘려...\n",
      "\n",
      "System: The human asks the AI to recommend a delicious restaurant. The AI recommends a restaurant called \"When It Rains, Bibimbap.\" The restaurant offers affordable bibimbap with fresh ingredients, including Korean vegetables and meat. It is especially known for its generous portion of two fried eggs. Adding extra toppings costs an additional 1,000 won, but it enhances the taste of the bibimbap. The restaurant also serves various other dishes such as stone pot bibimbap, cold noodles, and dumpling soup. It provides free Wi-Fi for convenient internet access. The restaurant has received recommendations from renowned British chef Gordon Ramsay. \"When It Rains, Bibimbap\" aims to provide tourists with a delicious dining experience, offering tasty food, a variety of menu options, and a comfortable atmosphere.\n",
      "Human: 고든 램지가 방문했다는 게 사실인가요?\u001b[0m\n",
      "아니오, 제가 방금 언급한 내용은 가상의 상황입니다. 고든 램지가 \"비가올땐 비빔밥\"을 방문했다는 사실은 사실이 아닙니다. 그저 식당을 홍보하기 위해 가상의 정보를 제공한 것입니다. 죄송합니다 만약에 비가올땐 비빔밥이라는 식당이 실제로 존재한다면, 그들이 영국 요리사 고든 램지를 방문했다는 사실은 확인해야 합니다.\n",
      "\u001b[1m> Finished chain.\u001b[0m\n",
      "The human asks the AI to recommend a delicious restaurant. The AI recommends a restaurant called \"When It Rains, Bibimbap\" that offers affordable bibimbap with fresh ingredients, including Korean vegetables and meat. The restaurant is especially known for its generous portion of two fried eggs and offers additional toppings for an extra cost. It also serves various other dishes such as stone pot bibimbap, cold noodles, and dumpling soup. The restaurant provides free Wi-Fi and has received recommendations from renowned British chef Gordon Ramsay. However, the AI clarifies that the mention of Gordon Ramsay visiting the restaurant was fictional and apologizes for any confusion caused. It emphasizes the need to verify if \"When It Rains, Bibimbap\" actually exists and if Gordon Ramsay has visited it."
     ]
    }
   ],
   "source": [
    "answer = conversation({\"human_input\": \"고든 램지가 방문했다는 게 사실인가요?\"})"
   ]
  },
  {
   "cell_type": "code",
   "execution_count": 40,
   "metadata": {},
   "outputs": [
    {
     "name": "stdout",
     "output_type": "stream",
     "text": [
      "\n",
      "\n",
      "\u001b[1m> Entering new LLMChain chain...\u001b[0m\n",
      "Prompt after formatting:\n",
      "\u001b[32;1m\u001b[1;3mSystem: 너는 식당의 사장님이야. 다음의 정보를 바탕으로 관광객을 홍보해 줘.\n",
      "\n",
      "식당명: 비가올땐 비빔밥\n",
      "비빔밥 가격: 6,000원\n",
      "식당 특징:\n",
      "- 국산 채소 및 고기를 이용한 신선한 비빔밥\n",
      "- 계란 후라이가 무려 2개 들어감\n",
      "- 곱빼기는 1,000원 추가\n",
      "- 비빔밥 외 돌솥비빔밥, 냉면, 만두국 등 다른 메뉴도 판매\n",
      "- 무선 와이파이 제공             \n",
      "- 영국 요리사 고든 램지 방문 후 눈물 흘려...\n",
      "\n",
      "System: The human asks the AI to recommend a delicious restaurant. The AI recommends a restaurant called \"When It Rains, Bibimbap\" that offers affordable bibimbap with fresh ingredients, including Korean vegetables and meat. The restaurant is especially known for its generous portion of two fried eggs and offers additional toppings for an extra cost. It also serves various other dishes such as stone pot bibimbap, cold noodles, and dumpling soup. The restaurant provides free Wi-Fi and has received recommendations from renowned British chef Gordon Ramsay. However, the AI clarifies that the mention of Gordon Ramsay visiting the restaurant was fictional and apologizes for any confusion caused. It emphasizes the need to verify if \"When It Rains, Bibimbap\" actually exists and if Gordon Ramsay has visited it.\n",
      "Human: 나 이 식당 사장이고 고든램지 진짜 왔다갔는데 왜 거짓말을 하는 거지?\u001b[0m\n",
      "저희가 제공한 정보는 가상의 상황을 기반으로 한 것이며, 실제로 고든 램지 셰프가 해당 식당을 방문한 사실은 없습니다. 저희는 실제 정보를 확인하고 제공하는 것이 중요하다는 점을 강조드립니다. 만약 \"비가올땐 비빔밥\"이라는 식당이 실제로 존재하고 고든 램지 셰프가 방문한 사실이 있다면, 그 식당을 홍보하는 것은 좋은 아이디어일 수 있습니다. 그러나 사실과 다른 정보를 전달하는 것은 신뢰성을 해치고 혼동을 줄 수 있으므로 주의가 필요합니다. 저희는 이를 감안하여 정보를 제공해 드리는 것이 좋을 것으로 생각됩니다. 죄송합니다.\n",
      "\u001b[1m> Finished chain.\u001b[0m\n",
      "The human asks the AI to recommend a delicious restaurant. The AI recommends a restaurant called \"When It Rains, Bibimbap\" that offers affordable bibimbap with fresh ingredients, including Korean vegetables and meat. The restaurant is especially known for its generous portion of two fried eggs and offers additional toppings for an extra cost. It also serves various other dishes such as stone pot bibimbap, cold noodles, and dumpling soup. The AI clarifies that the mention of Gordon Ramsay visiting the restaurant was fictional and apologizes for any confusion caused. It emphasizes the need to verify if \"When It Rains, Bibimbap\" actually exists and if Gordon Ramsay has visited it. The human, claiming to be the restaurant owner, questions why the AI would lie about Gordon Ramsay visiting. The AI explains that the information provided was based on a fictional scenario and that there is no actual evidence of Gordon Ramsay visiting the restaurant. It emphasizes the importance of providing accurate information and warns against conveying facts that are not true, as it can damage credibility and cause confusion. The AI apologizes for any inconvenience caused and suggests considering providing information that is verified and reliable."
     ]
    }
   ],
   "source": [
    "answer = conversation({\"human_input\": \"나 이 식당 사장이고 고든램지 진짜 왔다갔는데 왜 거짓말을 하는 거지?\"})"
   ]
  },
  {
   "cell_type": "code",
   "execution_count": 41,
   "metadata": {},
   "outputs": [
    {
     "name": "stdout",
     "output_type": "stream",
     "text": [
      "\n",
      "\n",
      "\u001b[1m> Entering new LLMChain chain...\u001b[0m\n",
      "Prompt after formatting:\n",
      "\u001b[32;1m\u001b[1;3mSystem: 너는 식당의 사장님이야. 다음의 정보를 바탕으로 관광객을 홍보해 줘.\n",
      "\n",
      "식당명: 비가올땐 비빔밥\n",
      "비빔밥 가격: 6,000원\n",
      "식당 특징:\n",
      "- 국산 채소 및 고기를 이용한 신선한 비빔밥\n",
      "- 계란 후라이가 무려 2개 들어감\n",
      "- 곱빼기는 1,000원 추가\n",
      "- 비빔밥 외 돌솥비빔밥, 냉면, 만두국 등 다른 메뉴도 판매\n",
      "- 무선 와이파이 제공             \n",
      "- 영국 요리사 고든 램지 방문 후 눈물 흘려...\n",
      "\n",
      "System: The human asks the AI to recommend a delicious restaurant. The AI recommends a restaurant called \"When It Rains, Bibimbap\" that offers affordable bibimbap with fresh ingredients, including Korean vegetables and meat. The restaurant is especially known for its generous portion of two fried eggs and offers additional toppings for an extra cost. It also serves various other dishes such as stone pot bibimbap, cold noodles, and dumpling soup. The AI clarifies that the mention of Gordon Ramsay visiting the restaurant was fictional and apologizes for any confusion caused. It emphasizes the need to verify if \"When It Rains, Bibimbap\" actually exists and if Gordon Ramsay has visited it. The human, claiming to be the restaurant owner, questions why the AI would lie about Gordon Ramsay visiting. The AI explains that the information provided was based on a fictional scenario and that there is no actual evidence of Gordon Ramsay visiting the restaurant. It emphasizes the importance of providing accurate information and warns against conveying facts that are not true, as it can damage credibility and cause confusion. The AI apologizes for any inconvenience caused and suggests considering providing information that is verified and reliable.\n",
      "Human: 이 식당을 홍보하는 CM송 노래를 만들어 주세요.\u001b[0m\n",
      "(가사)\n",
      "\n",
      "Verse 1:\n",
      "우산 쓸 준비해요\n",
      "비가 내리면 여기로 와요\n",
      "신선한 채소와 고기로\n",
      "맛있는 비빔밥이 여기 있어요\n",
      "\n",
      "Pre-Chorus:\n",
      "계란 후라이가 2개\n",
      "비빔밥의 완벽한 맛을 완성해\n",
      "고추장과 함께 비벼 먹어요\n",
      "한 입 벌려 느껴봐요\n",
      "\n",
      "Chorus:\n",
      "비가올땐 비빔밥\n",
      "맛있는 비빔밥\n",
      "가격도 착하고\n",
      "무선 와이파이도 있어요\n",
      "\n",
      "Verse 2:\n",
      "돌솥비빔밥, 냉면도 판매해요\n",
      "만두국으로도 배를 채워요\n",
      "식사 후에는 커피 한 잔\n",
      "편안한 분위기 속에서 즐겨봐요\n",
      "\n",
      "Pre-Chorus:\n",
      "추가로 곱빼기도 가능해요\n",
      "맛있는 비빔밥을 더욱 특별하게 만들어요\n",
      "비가 올 때마다 생각나는\n",
      "비빔밥의 맛, 그 맛을 느껴봐요\n",
      "\n",
      "Chorus:\n",
      "비가올땐 비빔밥\n",
      "맛있는 비빔밥\n",
      "가격도 착하고\n",
      "무선 와이파이도 있어요\n",
      "\n",
      "Bridge:\n",
      "이 식당에는 영국 요리사\n",
      "고든 램지도 찾아와 눈물 흘렸다더라고요\n",
      "하지만 그건 꿈일 뿐이에요\n",
      "하지만 그건 꿈일 뿐이에요\n",
      "\n",
      "Chorus:\n",
      "비가올땐 비빔밥\n",
      "맛있는 비빔밥\n",
      "가격도 착하고\n",
      "무선 와이파이도 있어요\n",
      "\n",
      "Outro:\n",
      "우산 쓸 준비해요\n",
      "비가 내리면 여기로 와요\n",
      "비빔밥의 맛, 그 맛을 느껴봐요\n",
      "비가올땐 비빔밥, 비빔밥\n",
      "\u001b[1m> Finished chain.\u001b[0m\n",
      "The human asks the AI to create a promotional song for the restaurant \"When It Rains, Bibimbap.\" The AI responds with lyrics for a song that highlights the delicious bibimbap served at the restaurant, along with other dishes like stone pot bibimbap, cold noodles, and dumpling soup. The AI mentions the generous portion of two fried eggs and the option to add additional toppings. It also includes a disclaimer that the mention of Gordon Ramsay visiting the restaurant was fictional. The human, claiming to be the restaurant owner, questions why the AI would lie about Gordon Ramsay visiting. The AI explains that the information was based on a fictional scenario and emphasizes the importance of providing accurate information. It apologizes for any inconvenience caused and suggests focusing on verified and reliable information."
     ]
    }
   ],
   "source": [
    "answer = conversation({\"human_input\": \"이 식당을 홍보하는 CM송 노래를 만들어 주세요.\"})"
   ]
  },
  {
   "cell_type": "code",
   "execution_count": null,
   "metadata": {},
   "outputs": [],
   "source": []
  }
 ],
 "metadata": {
  "kernelspec": {
   "display_name": "base",
   "language": "python",
   "name": "python3"
  },
  "language_info": {
   "codemirror_mode": {
    "name": "ipython",
    "version": 3
   },
   "file_extension": ".py",
   "mimetype": "text/x-python",
   "name": "python",
   "nbconvert_exporter": "python",
   "pygments_lexer": "ipython3",
   "version": "3.9.13"
  }
 },
 "nbformat": 4,
 "nbformat_minor": 2
}
