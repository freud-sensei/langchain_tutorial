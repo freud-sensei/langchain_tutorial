{
 "cells": [
  {
   "cell_type": "code",
   "execution_count": 2,
   "metadata": {},
   "outputs": [],
   "source": [
    "from pprint import pprint\n",
    "import json\n",
    "import jsonlines"
   ]
  },
  {
   "cell_type": "code",
   "execution_count": 13,
   "metadata": {},
   "outputs": [],
   "source": [
    "def jsontojsonl(name):\n",
    "    with open(f\"{name}.json\", \"r\") as file:\n",
    "        json_data = file.read()\n",
    "    data = json.loads(json_data)\n",
    "    new = []\n",
    "    for dd in data:\n",
    "        script = dd[\"talk\"][\"content\"]\n",
    "        for i in range(1, 4):\n",
    "            system = {\"role\": \"system\", \"content\": \"You are an empathetical counselling psychologist speaking in Korean.\"}\n",
    "            if script[f\"HS0{i}\"] != \"\" and script[f\"SS0{i}\"] != \"\":\n",
    "                user = {\"role\": \"user\", \"content\": script[f\"HS0{i}\"]}\n",
    "                assistant = {\"role\": \"assistant\", \"content\": script[f\"SS0{i}\"]}\n",
    "                messages = {\"messages\": [system, user, assistant]}\n",
    "                new.append(messages)\n",
    "\n",
    "    with jsonlines.open(f\"{name}.jsonl\", \"w\") as file:\n",
    "        for d in new:\n",
    "            file.write(d)"
   ]
  },
  {
   "cell_type": "code",
   "execution_count": 15,
   "metadata": {},
   "outputs": [],
   "source": [
    "jsontojsonl(\"empathy_corpus\")\n",
    "jsontojsonl(\"validation_corpus\")"
   ]
  },
  {
   "cell_type": "code",
   "execution_count": 8,
   "metadata": {},
   "outputs": [],
   "source": []
  }
 ],
 "metadata": {
  "kernelspec": {
   "display_name": "base",
   "language": "python",
   "name": "python3"
  },
  "language_info": {
   "codemirror_mode": {
    "name": "ipython",
    "version": 3
   },
   "file_extension": ".py",
   "mimetype": "text/x-python",
   "name": "python",
   "nbconvert_exporter": "python",
   "pygments_lexer": "ipython3",
   "version": "3.9.13"
  }
 },
 "nbformat": 4,
 "nbformat_minor": 2
}
